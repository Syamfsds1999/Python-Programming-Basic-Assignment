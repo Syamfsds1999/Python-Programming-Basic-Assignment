{
 "cells": [
  {
   "cell_type": "code",
   "execution_count": 1,
   "id": "88b1188e",
   "metadata": {},
   "outputs": [],
   "source": [
    "# 1. Write a Python Program to Find LCM?"
   ]
  },
  {
   "cell_type": "code",
   "execution_count": 2,
   "id": "fe74a979",
   "metadata": {},
   "outputs": [
    {
     "name": "stdout",
     "output_type": "stream",
     "text": [
      "Enter num1 : 2\n",
      "Enter num1 : 4\n",
      "The LCM of 2 and 4 is 4\n"
     ]
    }
   ],
   "source": [
    "a = int(input(\"Enter num1 : \"))\n",
    "b = int(input(\"Enter num1 : \"))\n",
    "\n",
    "# lets find biggest number\n",
    "if a > b:\n",
    "    bigger = a\n",
    "else:\n",
    "    bigger = b\n",
    "    \n",
    "while(True):\n",
    "    if bigger % a == 0 and bigger % b == 0 :\n",
    "        lcm = bigger\n",
    "        break\n",
    "    bigger+=1\n",
    "    \n",
    "print(\"The LCM of {} and {} is {}\".format(a,b,lcm))"
   ]
  },
  {
   "cell_type": "code",
   "execution_count": 3,
   "id": "f02a01df",
   "metadata": {},
   "outputs": [],
   "source": [
    "# 2. Write a Python Program to Find HCF?"
   ]
  },
  {
   "cell_type": "code",
   "execution_count": 4,
   "id": "2e141357",
   "metadata": {},
   "outputs": [
    {
     "name": "stdout",
     "output_type": "stream",
     "text": [
      "Enter num1 : 4\n",
      "Enter num1 : 8\n",
      "The hcf of 4 and 8 is 4\n"
     ]
    }
   ],
   "source": [
    "a = int(input(\"Enter num1 : \"))\n",
    "b = int(input(\"Enter num1 : \"))\n",
    "\n",
    "# lets find biggest number\n",
    "if a < b:\n",
    "    smaller = a\n",
    "else:\n",
    "    smaller = b\n",
    "hcf = 0   \n",
    "for i in range(1,smaller+1):\n",
    "    if a % i == 0 and b % i == 0 :\n",
    "        hcf = i\n",
    "    \n",
    "print(\"The hcf of {} and {} is {}\".format(a,b,hcf))"
   ]
  },
  {
   "cell_type": "code",
   "execution_count": 5,
   "id": "02b2e96d",
   "metadata": {},
   "outputs": [],
   "source": [
    "# 3. Write a Python Program to Convert Decimal to Binary, Octal and Hexadecimal?"
   ]
  },
  {
   "cell_type": "code",
   "execution_count": 6,
   "id": "1c6ba48a",
   "metadata": {},
   "outputs": [
    {
     "name": "stdout",
     "output_type": "stream",
     "text": [
      "Enter number :16\n",
      "16 in binary :  0b10000\n",
      "16 in Octal :  0o20\n",
      "16 in Hexadecimal :  0x10\n"
     ]
    }
   ],
   "source": [
    "num=int(input(\"Enter number :\"))\n",
    "\n",
    "print(num, \"in binary : \", bin(num))\n",
    "print(num, \"in Octal : \", oct(num))\n",
    "print(num, \"in Hexadecimal : \",hex(num))"
   ]
  },
  {
   "cell_type": "code",
   "execution_count": 7,
   "id": "1d123755",
   "metadata": {},
   "outputs": [],
   "source": [
    "# 4. Write a Python Program To Find ASCII value of a character?"
   ]
  },
  {
   "cell_type": "code",
   "execution_count": 10,
   "id": "6c3f3c61",
   "metadata": {},
   "outputs": [
    {
     "name": "stdout",
     "output_type": "stream",
     "text": [
      "Enter a Character : A\n",
      "Ascii value of A is 65\n"
     ]
    }
   ],
   "source": [
    "str = input(\"Enter a Character : \")\n",
    "print(\"Ascii value of {} is {}\".format(str,ord(str)))"
   ]
  },
  {
   "cell_type": "code",
   "execution_count": 11,
   "id": "0df67fd1",
   "metadata": {},
   "outputs": [],
   "source": [
    "# 5. Write a Python Program to Make a Simple Calculator with 4 basic mathematical operations?"
   ]
  },
  {
   "cell_type": "code",
   "execution_count": 12,
   "id": "933dd7b5",
   "metadata": {},
   "outputs": [
    {
     "name": "stdout",
     "output_type": "stream",
     "text": [
      "Enter num1 :2\n",
      "Enter num2 :4\n",
      "Enter + for addition : \n",
      "Enter - for Subtraction :\n",
      "Enter * for multiplication :\n",
      "Enter / for division : b\n",
      "Invalid input\n"
     ]
    }
   ],
   "source": [
    "num1 = float(input(\"Enter num1 :\"))\n",
    "num2 = float(input(\"Enter num2 :\"))\n",
    "\n",
    "operation = input(\"Enter + for addition : \\nEnter - for Subtraction :\\nEnter * for multiplication :\\nEnter / for division : \")\n",
    "\n",
    "add = num1 + num2\n",
    "sub = num1 - num2\n",
    "mul = num1 * num2\n",
    "\n",
    "if operation == \"+\":\n",
    "    print(\"{} + {} = {}\".format(num1,num2,add))\n",
    "elif operation == \"-\":\n",
    "    print(\"{} - {} = {}\".format(num1,num2,sub))\n",
    "elif operation == \"*\":\n",
    "    print(\"{} * {} = {}\".format(num1,num2,mul))\n",
    "elif operation == \"/\":\n",
    "    if num1 == 0 or num2 == 0:\n",
    "        print(\"Division with zero is not possible\")\n",
    "    else:\n",
    "        div = num1 / num2\n",
    "        print(\"{} / {} = {}\".format(num1,num2,div))\n",
    "else:\n",
    "    print(\"Invalid input\")    "
   ]
  },
  {
   "cell_type": "code",
   "execution_count": null,
   "id": "d33e6c75",
   "metadata": {},
   "outputs": [],
   "source": []
  }
 ],
 "metadata": {
  "kernelspec": {
   "display_name": "Python 3 (ipykernel)",
   "language": "python",
   "name": "python3"
  },
  "language_info": {
   "codemirror_mode": {
    "name": "ipython",
    "version": 3
   },
   "file_extension": ".py",
   "mimetype": "text/x-python",
   "name": "python",
   "nbconvert_exporter": "python",
   "pygments_lexer": "ipython3",
   "version": "3.9.7"
  }
 },
 "nbformat": 4,
 "nbformat_minor": 5
}
